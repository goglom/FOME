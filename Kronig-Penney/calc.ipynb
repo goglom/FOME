{
 "cells": [
  {
   "cell_type": "code",
   "execution_count": 20,
   "metadata": {},
   "outputs": [
    {
     "data": {
      "text/plain": [
       "0.48999999999999977"
      ]
     },
     "execution_count": 20,
     "metadata": {},
     "output_type": "execute_result"
    }
   ],
   "source": [
    "import numpy as np\n",
    "from scipy import constants\n",
    "\n",
    "\n",
    "h = 1.054e-27\n",
    "m_0 = 9.1e-28\n",
    "e = 4.8e-10\n",
    "\n",
    "def E_eff(a, eps):\n",
    "    return h * np.sqrt(4 *32 * np.pi * e**2 / a**3 / m_0 ) / np.sqrt(eps - 1)\n",
    "\n",
    "2.26 - 1.77"
   ]
  },
  {
   "cell_type": "code",
   "execution_count": 10,
   "metadata": {},
   "outputs": [
    {
     "data": {
      "text/plain": [
       "5.197636310649973"
      ]
     },
     "execution_count": 10,
     "metadata": {},
     "output_type": "execute_result"
    }
   ],
   "source": [
    "# GaP\n",
    "a = 5.4505e-8 # cm\n",
    "eps = 11.1\n",
    "SO_GaP = 0.08 # eV\n",
    "Eg_GaP = 2.26 # eV\n",
    "\n",
    "\n",
    "E_eff(a, eps) / 1.6e-12 # erg -> eV"
   ]
  },
  {
   "cell_type": "code",
   "execution_count": 17,
   "metadata": {},
   "outputs": [
    {
     "data": {
      "text/plain": [
       "4.35972710961953"
      ]
     },
     "execution_count": 17,
     "metadata": {},
     "output_type": "execute_result"
    }
   ],
   "source": [
    "# InP\n",
    "a = 5.8687e-8 # cm\n",
    "eps = 12.5\n",
    "SO_InP = 0.11 # eV\n",
    "Eg_InP = 1.344 # eV\n",
    "\n",
    "E_eff(a, eps) / 1.6e-12\n"
   ]
  }
 ],
 "metadata": {
  "interpreter": {
   "hash": "cb3c2a364b214c6ffe2642e853d25ce1e83d451a57eea557fd0e3e886ac6e718"
  },
  "kernelspec": {
   "display_name": "Python 3.9.1 64-bit",
   "language": "python",
   "name": "python3"
  },
  "language_info": {
   "codemirror_mode": {
    "name": "ipython",
    "version": 3
   },
   "file_extension": ".py",
   "mimetype": "text/x-python",
   "name": "python",
   "nbconvert_exporter": "python",
   "pygments_lexer": "ipython3",
   "version": "3.9.1"
  },
  "orig_nbformat": 4
 },
 "nbformat": 4,
 "nbformat_minor": 2
}
