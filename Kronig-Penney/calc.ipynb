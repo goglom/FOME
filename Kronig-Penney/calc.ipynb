{
 "cells": [
  {
   "cell_type": "code",
   "execution_count": 17,
   "metadata": {},
   "outputs": [],
   "source": [
    "import numpy as np\n",
    "\n",
    "h = 1.054e-27\n",
    "m_0 = 9.1e-28\n",
    "e = 4.8e-10\n",
    "\n",
    "def E_eff(a, eps):\n",
    "    return h * np.sqrt(4 *32 * np.pi * e**2 / a**3 / m_0 ) / np.sqrt(eps - 1)"
   ]
  },
  {
   "cell_type": "code",
   "execution_count": 22,
   "metadata": {},
   "outputs": [
    {
     "data": {
      "text/plain": [
       "5.197636310649973"
      ]
     },
     "execution_count": 22,
     "metadata": {},
     "output_type": "execute_result"
    }
   ],
   "source": [
    "# GaP\n",
    "a = 5.4505e-8\n",
    "eps = 11.1\n",
    "\n",
    "E_eff(a, eps) / 1.6e-12"
   ]
  },
  {
   "cell_type": "code",
   "execution_count": 21,
   "metadata": {},
   "outputs": [
    {
     "data": {
      "text/plain": [
       "4.35972710961953"
      ]
     },
     "execution_count": 21,
     "metadata": {},
     "output_type": "execute_result"
    }
   ],
   "source": [
    "# InP\n",
    "a = 5.8687e-8\n",
    "eps = 12.5\n",
    "\n",
    "E_eff(a, eps) / 1.6e-12"
   ]
  },
  {
   "cell_type": "code",
   "execution_count": null,
   "metadata": {},
   "outputs": [],
   "source": [
    "SO_GaP = "
   ]
  }
 ],
 "metadata": {
  "interpreter": {
   "hash": "cb3c2a364b214c6ffe2642e853d25ce1e83d451a57eea557fd0e3e886ac6e718"
  },
  "kernelspec": {
   "display_name": "Python 3.9.1 64-bit",
   "language": "python",
   "name": "python3"
  },
  "language_info": {
   "codemirror_mode": {
    "name": "ipython",
    "version": 3
   },
   "file_extension": ".py",
   "mimetype": "text/x-python",
   "name": "python",
   "nbconvert_exporter": "python",
   "pygments_lexer": "ipython3",
   "version": "3.9.1"
  },
  "orig_nbformat": 4
 },
 "nbformat": 4,
 "nbformat_minor": 2
}
